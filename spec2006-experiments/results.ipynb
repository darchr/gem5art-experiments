{
 "cells": [
  {
   "cell_type": "code",
   "execution_count": 30,
   "metadata": {},
   "outputs": [],
   "source": [
    "import gem5art.artifact\n",
    "import zipfile\n",
    "import os\n",
    "from uuid import UUID"
   ]
  },
  {
   "cell_type": "markdown",
   "metadata": {},
   "source": [
    "## Connect to the database and retrieve the result files"
   ]
  },
  {
   "cell_type": "code",
   "execution_count": 2,
   "metadata": {},
   "outputs": [],
   "source": [
    "conn = gem5art.artifact.getDBConnection()\n",
    "\n",
    "results_it = gem5art.artifact.getByName('results')\n",
    "\n",
    "for result in results_it:\n",
    "    if \"spec-experiments\" in result.path:\n",
    "        filename = \"zip\"\n",
    "        conn.downloadFile(result._id, filename)\n",
    "        with zipfile.ZipFile(filename, 'r') as zip_ref:\n",
    "            zip_ref.extractall(os.getcwd())\n",
    "        os.remove(filename)"
   ]
  },
  {
   "cell_type": "markdown",
   "metadata": {},
   "source": [
    "## Constants / Util functions"
   ]
  },
  {
   "cell_type": "code",
   "execution_count": 21,
   "metadata": {},
   "outputs": [],
   "source": [
    "# Copied from launch_spec2006_experiments.py\n",
    "cpus = ['kvm', 'atomic', 'o3', 'timing']\n",
    "benchmark_sizes = {'kvm':    ['test', 'ref'],\n",
    "                    'atomic': ['test'],\n",
    "                    'o3':     ['test'],\n",
    "                    'timing': ['test']\n",
    "                   }\n",
    "benchmarks = ['401.bzip2','403.gcc','410.bwaves','416.gamess','429.mcf',\n",
    "                  '433.milc','434.zeusmp','435.gromacs','436.cactusADM',\n",
    "                  '437.leslie3d','444.namd','445.gobmk','453.povray',\n",
    "                  '454.calculix','456.hmmer','458.sjeng','459.GemsFDTD',\n",
    "                  '462.libquantum','464.h264ref','465.tonto','470.lbm',\n",
    "                  '471.omnetpp','473.astar','481.wrf','482.sphinx3',\n",
    "                  '998.specrand','999.specrand']\n",
    "\n",
    "# CPU display names\n",
    "cpu_name_of = { 'kvm': 'KVM',\n",
    "                'o3': 'O3CPU',\n",
    "                'atomic': 'AtomicCPU',\n",
    "                'timing': 'TimingSimpleCPU'\n",
    "              }\n",
    "\n",
    "# Util functions\n",
    "# https://stackoverflow.com/questions/5676646/how-can-i-fill-out-a-python-string-with-spaces\n",
    "right_padded_str = lambda s, p: '{message:{fill}{align}{width}}'.format(\n",
    "   message = s,\n",
    "   fill = ' ',\n",
    "   align = '<',\n",
    "   width = p,\n",
    ")"
   ]
  },
  {
   "cell_type": "markdown",
   "metadata": {},
   "source": [
    "## Verifying SPEC2006 Runs"
   ]
  },
  {
   "cell_type": "markdown",
   "metadata": {},
   "source": [
    "### Checking SPEC2006 logs\n",
    "&nbsp;&nbsp;&nbsp;&nbsp;&nbsp;&nbsp;&nbsp;&nbsp;\n",
    "The results folder of each benchmark has a folder named `speclogs`, which contains the logs of the run spec commands. \n",
    "There are two logs in this folder: `CPU2006.001.log` and `CPU2006.002.log`. \n",
    "The former is the log of compiling SPEC benchmarks, which is generated when we compile SPEC benchmarks while we create the disk image. \n",
    "The latter is the log of the benchmark run. \n",
    "So, we only interest in `CPU2006.002.log`.  \n",
    "\n",
    "&nbsp;&nbsp;&nbsp;&nbsp;&nbsp;&nbsp;&nbsp;&nbsp;\n",
    "If the benchmark run is successful, there will be a line starting with `Success: 1x` followed by `benchmark_name`. \n",
    "We will look for this line in each `CPU2006.002.log` file."
   ]
  },
  {
   "cell_type": "code",
   "execution_count": 22,
   "metadata": {},
   "outputs": [],
   "source": [
    "# Results folder structure: results/cpu/benchmark_size/benchmark_name\n",
    "# A simple `grep` would extract all necessary information, but it is not a cross-platform solution.\n",
    "\n",
    "speclogs_verifying = {}\n",
    "\n",
    "for cpu in cpus:\n",
    "    speclogs_verifying[cpu] = {}\n",
    "    for benchmark_size in benchmark_sizes[cpu]:\n",
    "        speclogs_verifying[cpu][benchmark_size] = {}\n",
    "        for benchmark_name in benchmarks:\n",
    "            speclogs_verifying[cpu][benchmark_size][benchmark_name] = \"\"\n",
    "            results_folder_path = \"results/{}/{}/{}/\".format(cpu, benchmark_size, benchmark_name)\n",
    "            # check if the results folder exists\n",
    "            if not os.path.isdir(results_folder_path):\n",
    "                speclogs_verifying[cpu][benchmark_size][benchmark_name] = \"No results folder\"\n",
    "                continue\n",
    "            # check SPEC log\n",
    "            try:\n",
    "                with open(\"{}/speclogs/CPU2006.002.log\".format(results_folder_path), \"r\") as f:\n",
    "                    result = f.read().find('Success: 1x'.format(benchmark_name))\n",
    "                    if result > 0:\n",
    "                        speclogs_verifying[cpu][benchmark_size][benchmark_name] = \"Success\"\n",
    "                    else:\n",
    "                        speclogs_verifying[cpu][benchmark_size][benchmark_name] = \"Error\"     \n",
    "            except FileNotFoundError:\n",
    "                speclogs_verifying[cpu][benchmark_size][benchmark_name] = \"No SPEC logs\"        "
   ]
  },
  {
   "cell_type": "markdown",
   "metadata": {},
   "source": [
    "### Generate the Appendix I. Working SPEC 2006 Benchmarks x CPU Model table"
   ]
  },
  {
   "cell_type": "code",
   "execution_count": 29,
   "metadata": {},
   "outputs": [
    {
     "name": "stdout",
     "output_type": "stream",
     "text": [
      "| Benchmarks         | KVM/test        | KVM/ref         | AtomicCPU/test  | O3CPU/test      | TimingSimpleCPU/test |\n",
      "|--------------------|-----------------|-----------------|-----------------|-----------------|----------------------|\n",
      "| 401.bzip2          | Success         | Success         | Success         | Success         | Success              |\n",
      "| 403.gcc            | Success         | Success         | Success         | Success         | Success              |\n",
      "| 410.bwaves         | Success         | Success         | Success         | Success         | Success              |\n",
      "| 416.gamess         | Error           | Error           | Error           | Error           | Error                |\n",
      "| 429.mcf            | Success         | Success         | Success         | Success         | No SPEC logs         |\n",
      "| 433.milc           | Success         | Success         | Success         | Success         | Success              |\n",
      "| 434.zeusmp         | Success         | Success         | Success         | No SPEC logs    | Success              |\n",
      "| 435.gromacs        | Success         | Success         | Success         | Success         | Success              |\n",
      "| 436.cactusADM      | Success         | Success         | Success         | Success         | Success              |\n",
      "| 437.leslie3d       | Success         | Success         | Success         | Success         | Success              |\n",
      "| 444.namd           | Success         | Success         | Success         | Success         | Success              |\n",
      "| 445.gobmk          | Success         | Success         | Success         | No SPEC logs    | Success              |\n",
      "| 453.povray         | Success         | Success         | Success         | Success         | Success              |\n",
      "| 454.calculix       | Success         | Success         | Success         | Success         | Success              |\n",
      "| 456.hmmer          | Success         | Success         | Success         | Success         | Success              |\n",
      "| 458.sjeng          | Success         | Success         | Success         | Success         | Success              |\n",
      "| 459.GemsFDTD       | Success         | Success         | Success         | Success         | Success              |\n",
      "| 462.libquantum     | Success         | Success         | Success         | Success         | Success              |\n",
      "| 464.h264ref        | Success         | Success         | Success         | No SPEC logs    | Success              |\n",
      "| 465.tonto          | Success         | Success         | Success         | Success         | Success              |\n",
      "| 470.lbm            | Success         | Success         | Success         | Success         | Success              |\n",
      "| 471.omnetpp        | Success         | Success         | Success         | Success         | Success              |\n",
      "| 473.astar          | Success         | Success         | Success         | No SPEC logs    | Success              |\n",
      "| 481.wrf            | Error           | Error           | Error           | Error           | Error                |\n",
      "| 482.sphinx3        | Success         | Success         | Success         | Success         | Success              |\n",
      "| 998.specrand       | Success         | Success         | Success         | Success         | Success              |\n",
      "| 999.specrand       | Success         | Success         | Success         | Success         | Success              |\n"
     ]
    }
   ],
   "source": [
    "n_cols = sum([len(benchmark_sizes[cpu]) for cpu in cpus])\n",
    "\n",
    "headers = []\n",
    "dashes = []\n",
    "\n",
    "benchmark_col_length = max([len(benchmark_name) for benchmark_name in benchmarks])\n",
    "benchmark_col_length = max(benchmark_col_length, len('Benchmarks'))\n",
    "benchmark_col_length = benchmark_col_length + 6\n",
    "\n",
    "headers.append(right_padded_str(' Benchmarks', benchmark_col_length))\n",
    "dashes.append('-' * len(headers[-1]))\n",
    "\n",
    "cpu_col_length = {}\n",
    "\n",
    "for cpu in cpus:\n",
    "    for benchmark_size in benchmark_sizes[cpu]:\n",
    "        col_header = ' {}/{} '.format(cpu_name_of[cpu], benchmark_size)\n",
    "        cpu_col_length[(cpu, benchmark_size)] = max(len(col_header),\n",
    "                                                    len('Success'),\n",
    "                                                    len('Error'),\n",
    "                                                    len('No SPEC logs'),\n",
    "                                                    len('No results folder'))\n",
    "        headers.append(right_padded_str(col_header, cpu_col_length[(cpu, benchmark_size)]))\n",
    "        dashes.append('-' * cpu_col_length[(cpu, benchmark_size)])\n",
    "\n",
    "\n",
    "headers = '|' + '|'.join(headers) + '|'\n",
    "dashes = '|' + '|'.join(dashes) + '|'\n",
    "\n",
    "rows = []\n",
    "\n",
    "for benchmark_name in benchmarks:\n",
    "    row = []\n",
    "    row.append(right_padded_str(' {}'.format(benchmark_name), benchmark_col_length))\n",
    "    for cpu in cpus:\n",
    "        for benchmark_size in benchmark_sizes[cpu]:\n",
    "            row.append(right_padded_str(' {}'.format(speclogs_verifying[cpu][benchmark_size][benchmark_name]),\n",
    "                                        cpu_col_length[(cpu, benchmark_size)]))\n",
    "    row = '|' + '|'.join(row) + '|'\n",
    "    rows.append(row)\n",
    "rows = '\\n'.join(rows)\n",
    "\n",
    "print(headers)\n",
    "print(dashes)\n",
    "print(rows)"
   ]
  },
  {
   "cell_type": "markdown",
   "metadata": {},
   "source": [
    "| Benchmarks         | KVM/test        | KVM/ref         | AtomicCPU/test  | O3CPU/test      | TimingSimpleCPU/test |\n",
    "|--------------------|-----------------|-----------------|-----------------|-----------------|----------------------|\n",
    "| 401.bzip2          | Success         | Success         | Success         | Success         | Success              |\n",
    "| 403.gcc            | Success         | Success         | Success         | Success         | Success              |\n",
    "| 410.bwaves         | Success         | Success         | Success         | Success         | Success              |\n",
    "| 416.gamess         | Error           | Error           | Error           | Error           | Error                |\n",
    "| 429.mcf            | Success         | Success         | Success         | Success         | No SPEC logs         |\n",
    "| 433.milc           | Success         | Success         | Success         | Success         | Success              |\n",
    "| 434.zeusmp         | Success         | Success         | Success         | No SPEC logs    | Success              |\n",
    "| 435.gromacs        | Success         | Success         | Success         | Success         | Success              |\n",
    "| 436.cactusADM      | Success         | Success         | Success         | Success         | Success              |\n",
    "| 437.leslie3d       | Success         | Success         | Success         | Success         | Success              |\n",
    "| 444.namd           | Success         | Success         | Success         | Success         | Success              |\n",
    "| 445.gobmk          | Success         | Success         | Success         | No SPEC logs    | Success              |\n",
    "| 453.povray         | Success         | Success         | Success         | Success         | Success              |\n",
    "| 454.calculix       | Success         | Success         | Success         | Success         | Success              |\n",
    "| 456.hmmer          | Success         | Success         | Success         | Success         | Success              |\n",
    "| 458.sjeng          | Success         | Success         | Success         | Success         | Success              |\n",
    "| 459.GemsFDTD       | Success         | Success         | Success         | Success         | Success              |\n",
    "| 462.libquantum     | Success         | Success         | Success         | Success         | Success              |\n",
    "| 464.h264ref        | Success         | Success         | Success         | No SPEC logs    | Success              |\n",
    "| 465.tonto          | Success         | Success         | Success         | Success         | Success              |\n",
    "| 470.lbm            | Success         | Success         | Success         | Success         | Success              |\n",
    "| 471.omnetpp        | Success         | Success         | Success         | Success         | Success              |\n",
    "| 473.astar          | Success         | Success         | Success         | No SPEC logs    | Success              |\n",
    "| 481.wrf            | Error           | Error           | Error           | Error           | Error                |\n",
    "| 482.sphinx3        | Success         | Success         | Success         | Success         | Success              |\n",
    "| 998.specrand       | Success         | Success         | Success         | Success         | Success              |\n",
    "| 999.specrand       | Success         | Success         | Success         | Success         | Success              |"
   ]
  },
  {
   "cell_type": "code",
   "execution_count": null,
   "metadata": {},
   "outputs": [],
   "source": []
  }
 ],
 "metadata": {
  "kernelspec": {
   "display_name": "Python 3",
   "language": "python",
   "name": "python3"
  },
  "language_info": {
   "codemirror_mode": {
    "name": "ipython",
    "version": 3
   },
   "file_extension": ".py",
   "mimetype": "text/x-python",
   "name": "python",
   "nbconvert_exporter": "python",
   "pygments_lexer": "ipython3",
   "version": "3.7.3"
  }
 },
 "nbformat": 4,
 "nbformat_minor": 2
}
